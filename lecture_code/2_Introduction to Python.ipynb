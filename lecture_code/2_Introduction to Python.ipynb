{
 "cells": [
  {
   "cell_type": "markdown",
   "metadata": {},
   "source": [
    "# Introduction to Python"
   ]
  },
  {
   "cell_type": "markdown",
   "metadata": {},
   "source": [
    "Python is an interpreted scripting language that offers great conveniences in terms of coding flexibility as well as access to libraries and toolboxes. This is by no means a complete or formal introduction to Python. Please refer to resource links in the lecture slides or your own favorite sources to familiarize yourself with the language"
   ]
  },
  {
   "cell_type": "markdown",
   "metadata": {},
   "source": [
    "**IPython Magic**: Python offers some meta services as a part of the runtime environment which can be very helpful. For example, the autoload command below automatically detects if some library code being imported by this notebook has changed or not. If any changes are detected, they are automatically reloaded (if you do not use this magic command then the old version will continue to be used). This is helpful if you are writing some of the libraries yourself and testing them using a Jupyter notebook or an IPython interface and you wish to avoid reloading your libraries again and again after making every tiny change."
   ]
  },
  {
   "cell_type": "code",
   "execution_count": 1,
   "metadata": {},
   "outputs": [],
   "source": [
    "%load_ext autoreload\n",
    "%autoreload 2"
   ]
  },
  {
   "cell_type": "markdown",
   "metadata": {},
   "source": [
    "**Python Packages**: it is quite common to give packages handy nicknames while importing them. In fact, some of these nicknames are quite standard, for example _np_ for the _numpy_ package, _plt_ for the _pyplot_ package, etc. However, nothing will break if you choose some other nickname and use that nickname consistently. It is just that people will recognize your code more easily if you use standard nicknames. Nicknames for other packages may be non-standard and you are free to use nicknames that are both descriptive, as well as short.\n",
    "\n",
    "**Import Statements**: the Python language attempts to make the syntax sound similar to the English language. Thus, if we wish to import the _numpy_ package with the nickname _np_ , we should use the command\\\n",
    "_import numpy as np_\n",
    "\n",
    "If we wish to import a specific module within the _numpy_ package, such as the _linalg_ module that contains a lot of useful methods to perform linear algebraic operations, we have two ways of specifying this\\\n",
    "_import numpy.linalg as lin_ \\\n",
    "_from numpy import linalg as lin_\n",
    "\n",
    "Notice how the first way uses the convention dot (.) operator to indicate that we wish to import a module within the package whereas the second way is an attempt to make this statement sound more like spoken English. Using one or the other is a matter of personal style and taste."
   ]
  },
  {
   "cell_type": "code",
   "execution_count": 2,
   "metadata": {},
   "outputs": [],
   "source": [
    "import numpy as np\n",
    "import numpy.linalg as lin"
   ]
  },
  {
   "cell_type": "markdown",
   "metadata": {},
   "source": [
    "**User-defined Packages**: Python allows you to take code that you would be using repeatedly, and arrange it into modules and packages. For our course, we have defined a package called _cs771_ and it will contain several modules. For now we simply look at a dummy module that contains a method to print the conventional _\"Hello World\"_ message"
   ]
  },
  {
   "cell_type": "code",
   "execution_count": 3,
   "metadata": {},
   "outputs": [],
   "source": [
    "from cs771 import helloWorld as hW"
   ]
  },
  {
   "cell_type": "markdown",
   "metadata": {},
   "source": [
    "Let us start off by greeting each other. You will see the output of this command at the bottom of this cell when you \"run\" this cell.\n",
    "\n",
    "**Identifier-naming Conventions**: the most popular identifier naming convention in Python (i.e. how you give names to variables, methods, classes, or even modules and packages) is to separate multiple words or parts within the name using an underscore (\\_). However, I prefer the C-style naming convention that uses capitalization instead. For example, the method name used below is _helloWorld_ whereas a conventional naming style would have used the name _hello\\_world_ instead. Feel free to use a convention that suits your style and taste."
   ]
  },
  {
   "cell_type": "code",
   "execution_count": 5,
   "metadata": {},
   "outputs": [
    {
     "name": "stdout",
     "output_type": "stream",
     "text": [
      "Hello everybody, welcome to CS771: Introduction to Machine Learning\n"
     ]
    }
   ],
   "source": [
    "hW.helloWorld( \"everybody\" )"
   ]
  },
  {
   "cell_type": "markdown",
   "metadata": {},
   "source": [
    "**Comments in Python**: single-line comments are effected using the pound/sharp/hash (#) operator. Multiline comments are effected using a funny workaround by styling them as triple quoted strings. Due to the manner in which the Python interpreter works, if it encounters a stray string in the middle of the program, it ignores it (unless it is placed strategically as a docstring) and thus, the string effectively functions as a comment."
   ]
  },
  {
   "cell_type": "code",
   "execution_count": 6,
   "metadata": {},
   "outputs": [
    {
     "name": "stdout",
     "output_type": "stream",
     "text": [
      "The value of foo is  42\n"
     ]
    }
   ],
   "source": [
    "foo = 42 # This is a single-line comment\n",
    "'''\n",
    "I just placed a string in the middle of the program but since it\n",
    "will be ignored anyway, I can exploit this to get multi-line comments\n",
    "'''\n",
    "# Let us now print the value of this variable\n",
    "print( \"The value of foo is \", foo )"
   ]
  }
 ],
 "metadata": {
  "author": {
   "email": "purushot@cse.iitk.ac.in",
   "institution": "IIT Kanpur",
   "name": "Puru"
  },
  "kernelspec": {
   "display_name": "Python 3",
   "language": "python",
   "name": "python3"
  },
  "language_info": {
   "codemirror_mode": {
    "name": "ipython",
    "version": 3
   },
   "file_extension": ".py",
   "mimetype": "text/x-python",
   "name": "python",
   "nbconvert_exporter": "python",
   "pygments_lexer": "ipython3",
   "version": "3.7.2"
  }
 },
 "nbformat": 4,
 "nbformat_minor": 2
}
